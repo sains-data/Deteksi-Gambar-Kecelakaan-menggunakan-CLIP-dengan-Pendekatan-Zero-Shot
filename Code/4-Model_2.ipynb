{
 "cells": [
  {
   "cell_type": "markdown",
   "metadata": {},
   "source": [
    "# model 2"
   ]
  },
  {
   "cell_type": "code",
   "execution_count": null,
   "metadata": {},
   "outputs": [
    {
     "name": "stderr",
     "output_type": "stream",
     "text": [
      "/usr/local/lib/python3.10/dist-packages/huggingface_hub/utils/_auth.py:94: UserWarning: \n",
      "The secret `HF_TOKEN` does not exist in your Colab secrets.\n",
      "To authenticate with the Hugging Face Hub, create a token in your settings tab (https://huggingface.co/settings/tokens), set it as secret in your Google Colab and restart your session.\n",
      "You will be able to reuse this secret in all of your notebooks.\n",
      "Please note that authentication is recommended but still optional to access public models or datasets.\n",
      "  warnings.warn(\n"
     ]
    },
    {
     "data": {
      "application/vnd.jupyter.widget-view+json": {
       "model_id": "dd8929507cb74cecbcaf122a2849b359",
       "version_major": 2,
       "version_minor": 0
      },
      "text/plain": [
       "config.json:   0%|          | 0.00/4.19k [00:00<?, ?B/s]"
      ]
     },
     "metadata": {},
     "output_type": "display_data"
    },
    {
     "data": {
      "application/vnd.jupyter.widget-view+json": {
       "model_id": "1ac5f9d9037e4c1999c099e385ef62ba",
       "version_major": 2,
       "version_minor": 0
      },
      "text/plain": [
       "pytorch_model.bin:   0%|          | 0.00/605M [00:00<?, ?B/s]"
      ]
     },
     "metadata": {},
     "output_type": "display_data"
    },
    {
     "data": {
      "application/vnd.jupyter.widget-view+json": {
       "model_id": "96b836bc3e4b40f6880f6a51f1d69480",
       "version_major": 2,
       "version_minor": 0
      },
      "text/plain": [
       "preprocessor_config.json:   0%|          | 0.00/316 [00:00<?, ?B/s]"
      ]
     },
     "metadata": {},
     "output_type": "display_data"
    },
    {
     "data": {
      "application/vnd.jupyter.widget-view+json": {
       "model_id": "296e8458592d47828d1022393dd51c24",
       "version_major": 2,
       "version_minor": 0
      },
      "text/plain": [
       "tokenizer_config.json:   0%|          | 0.00/592 [00:00<?, ?B/s]"
      ]
     },
     "metadata": {},
     "output_type": "display_data"
    },
    {
     "data": {
      "application/vnd.jupyter.widget-view+json": {
       "model_id": "e4ef1d430e1f4642b065303d873deefc",
       "version_major": 2,
       "version_minor": 0
      },
      "text/plain": [
       "vocab.json:   0%|          | 0.00/862k [00:00<?, ?B/s]"
      ]
     },
     "metadata": {},
     "output_type": "display_data"
    },
    {
     "data": {
      "application/vnd.jupyter.widget-view+json": {
       "model_id": "e57187923e1d4d7a9863ea4da5009bfc",
       "version_major": 2,
       "version_minor": 0
      },
      "text/plain": [
       "merges.txt:   0%|          | 0.00/525k [00:00<?, ?B/s]"
      ]
     },
     "metadata": {},
     "output_type": "display_data"
    },
    {
     "data": {
      "application/vnd.jupyter.widget-view+json": {
       "model_id": "4d2c7aa2dc954cd68dee5d369a4faec0",
       "version_major": 2,
       "version_minor": 0
      },
      "text/plain": [
       "tokenizer.json:   0%|          | 0.00/2.22M [00:00<?, ?B/s]"
      ]
     },
     "metadata": {},
     "output_type": "display_data"
    },
    {
     "data": {
      "application/vnd.jupyter.widget-view+json": {
       "model_id": "6d06110235c94a4e86da9fc948518458",
       "version_major": 2,
       "version_minor": 0
      },
      "text/plain": [
       "special_tokens_map.json:   0%|          | 0.00/389 [00:00<?, ?B/s]"
      ]
     },
     "metadata": {},
     "output_type": "display_data"
    },
    {
     "data": {
      "application/vnd.jupyter.widget-view+json": {
       "model_id": "ec5cdb5956794928b80b018605f62f64",
       "version_major": 2,
       "version_minor": 0
      },
      "text/plain": [
       "config.json:   0%|          | 0.00/4.52k [00:00<?, ?B/s]"
      ]
     },
     "metadata": {},
     "output_type": "display_data"
    },
    {
     "data": {
      "application/vnd.jupyter.widget-view+json": {
       "model_id": "3c32cbca3e2147c4846c8ac5ce6f7a97",
       "version_major": 2,
       "version_minor": 0
      },
      "text/plain": [
       "model.safetensors:   0%|          | 0.00/1.71G [00:00<?, ?B/s]"
      ]
     },
     "metadata": {},
     "output_type": "display_data"
    },
    {
     "data": {
      "application/vnd.jupyter.widget-view+json": {
       "model_id": "9003d5eaa879441187b318837d197e51",
       "version_major": 2,
       "version_minor": 0
      },
      "text/plain": [
       "preprocessor_config.json:   0%|          | 0.00/316 [00:00<?, ?B/s]"
      ]
     },
     "metadata": {},
     "output_type": "display_data"
    },
    {
     "data": {
      "application/vnd.jupyter.widget-view+json": {
       "model_id": "50666cbbd1be438797512fd609936eea",
       "version_major": 2,
       "version_minor": 0
      },
      "text/plain": [
       "tokenizer_config.json:   0%|          | 0.00/905 [00:00<?, ?B/s]"
      ]
     },
     "metadata": {},
     "output_type": "display_data"
    },
    {
     "data": {
      "application/vnd.jupyter.widget-view+json": {
       "model_id": "1ed66a1ddbf144679625d8c64b381eac",
       "version_major": 2,
       "version_minor": 0
      },
      "text/plain": [
       "vocab.json:   0%|          | 0.00/961k [00:00<?, ?B/s]"
      ]
     },
     "metadata": {},
     "output_type": "display_data"
    },
    {
     "data": {
      "application/vnd.jupyter.widget-view+json": {
       "model_id": "7c6094424bfb4fc4ab47dc84b176731c",
       "version_major": 2,
       "version_minor": 0
      },
      "text/plain": [
       "merges.txt:   0%|          | 0.00/525k [00:00<?, ?B/s]"
      ]
     },
     "metadata": {},
     "output_type": "display_data"
    },
    {
     "data": {
      "application/vnd.jupyter.widget-view+json": {
       "model_id": "08008d63fd0543abad46b71bf1af54e5",
       "version_major": 2,
       "version_minor": 0
      },
      "text/plain": [
       "tokenizer.json:   0%|          | 0.00/2.22M [00:00<?, ?B/s]"
      ]
     },
     "metadata": {},
     "output_type": "display_data"
    },
    {
     "data": {
      "application/vnd.jupyter.widget-view+json": {
       "model_id": "965bb3d5985a4d9da4d4476a6abe3d57",
       "version_major": 2,
       "version_minor": 0
      },
      "text/plain": [
       "special_tokens_map.json:   0%|          | 0.00/389 [00:00<?, ?B/s]"
      ]
     },
     "metadata": {},
     "output_type": "display_data"
    },
    {
     "data": {
      "text/plain": [
       "CLIPModel(\n",
       "  (text_model): CLIPTextTransformer(\n",
       "    (embeddings): CLIPTextEmbeddings(\n",
       "      (token_embedding): Embedding(49408, 768)\n",
       "      (position_embedding): Embedding(77, 768)\n",
       "    )\n",
       "    (encoder): CLIPEncoder(\n",
       "      (layers): ModuleList(\n",
       "        (0-11): 12 x CLIPEncoderLayer(\n",
       "          (self_attn): CLIPSdpaAttention(\n",
       "            (k_proj): Linear(in_features=768, out_features=768, bias=True)\n",
       "            (v_proj): Linear(in_features=768, out_features=768, bias=True)\n",
       "            (q_proj): Linear(in_features=768, out_features=768, bias=True)\n",
       "            (out_proj): Linear(in_features=768, out_features=768, bias=True)\n",
       "          )\n",
       "          (layer_norm1): LayerNorm((768,), eps=1e-05, elementwise_affine=True)\n",
       "          (mlp): CLIPMLP(\n",
       "            (activation_fn): QuickGELUActivation()\n",
       "            (fc1): Linear(in_features=768, out_features=3072, bias=True)\n",
       "            (fc2): Linear(in_features=3072, out_features=768, bias=True)\n",
       "          )\n",
       "          (layer_norm2): LayerNorm((768,), eps=1e-05, elementwise_affine=True)\n",
       "        )\n",
       "      )\n",
       "    )\n",
       "    (final_layer_norm): LayerNorm((768,), eps=1e-05, elementwise_affine=True)\n",
       "  )\n",
       "  (vision_model): CLIPVisionTransformer(\n",
       "    (embeddings): CLIPVisionEmbeddings(\n",
       "      (patch_embedding): Conv2d(3, 1024, kernel_size=(14, 14), stride=(14, 14), bias=False)\n",
       "      (position_embedding): Embedding(257, 1024)\n",
       "    )\n",
       "    (pre_layrnorm): LayerNorm((1024,), eps=1e-05, elementwise_affine=True)\n",
       "    (encoder): CLIPEncoder(\n",
       "      (layers): ModuleList(\n",
       "        (0-23): 24 x CLIPEncoderLayer(\n",
       "          (self_attn): CLIPSdpaAttention(\n",
       "            (k_proj): Linear(in_features=1024, out_features=1024, bias=True)\n",
       "            (v_proj): Linear(in_features=1024, out_features=1024, bias=True)\n",
       "            (q_proj): Linear(in_features=1024, out_features=1024, bias=True)\n",
       "            (out_proj): Linear(in_features=1024, out_features=1024, bias=True)\n",
       "          )\n",
       "          (layer_norm1): LayerNorm((1024,), eps=1e-05, elementwise_affine=True)\n",
       "          (mlp): CLIPMLP(\n",
       "            (activation_fn): QuickGELUActivation()\n",
       "            (fc1): Linear(in_features=1024, out_features=4096, bias=True)\n",
       "            (fc2): Linear(in_features=4096, out_features=1024, bias=True)\n",
       "          )\n",
       "          (layer_norm2): LayerNorm((1024,), eps=1e-05, elementwise_affine=True)\n",
       "        )\n",
       "      )\n",
       "    )\n",
       "    (post_layernorm): LayerNorm((1024,), eps=1e-05, elementwise_affine=True)\n",
       "  )\n",
       "  (visual_projection): Linear(in_features=1024, out_features=768, bias=False)\n",
       "  (text_projection): Linear(in_features=768, out_features=768, bias=False)\n",
       ")"
      ]
     },
     "metadata": {},
     "output_type": "display_data"
    }
   ],
   "source": [
    "# Model pertama\n",
    "model_name_1 = \"openai/clip-vit-base-patch32\"\n",
    "model_1 = CLIPModel.from_pretrained(model_name_1)\n",
    "processor_1 = CLIPProcessor.from_pretrained(model_name_1)\n",
    "\n",
    "# Model kedua\n",
    "model_name_2 = \"openai/clip-vit-large-patch14\"\n",
    "model_2 = CLIPModel.from_pretrained(model_name_2)\n",
    "processor_2 = CLIPProcessor.from_pretrained(model_name_2)\n",
    "\n",
    "device = \"cuda\" if torch.cuda.is_available() else \"cpu\"\n",
    "model_1.to(device)\n",
    "model_2.to(device)\n"
   ]
  },
  {
   "cell_type": "code",
   "execution_count": null,
   "metadata": {},
   "outputs": [],
   "source": [
    "folder_path = \"/content/drive/MyDrive/DATA PENGPOL/data/train normalisasi/Accident\"\n",
    "csv_path = \"/content/clip_probabilities.csv\"\n",
    "\n",
    "data = pd.read_csv(csv_path)\n",
    "assert 'Image Path' in data.columns and 'Best Description' in data.columns, \"CSV harus memiliki kolom 'image_name' dan 'description'\"\n",
    "data['Image Path'] = data['Image Path'].apply(lambda x: os.path.join(folder_path, x))\n"
   ]
  },
  {
   "cell_type": "code",
   "execution_count": null,
   "metadata": {},
   "outputs": [],
   "source": [
    "def process_inputs(processor, image_path, description):\n",
    "    image = Image.open(image_path).convert(\"RGB\")\n",
    "    inputs = processor(\n",
    "        text=[description], images=image, return_tensors=\"pt\", padding=True\n",
    "    )\n",
    "    return {k: v.to(device) for k, v in inputs.items()}\n"
   ]
  },
  {
   "cell_type": "code",
   "execution_count": null,
   "metadata": {},
   "outputs": [],
   "source": [
    "results = []\n",
    "\n",
    "for idx, row in data.iterrows():\n",
    "    try:\n",
    "        # Proses data untuk model 1\n",
    "        inputs_1 = process_inputs(processor_1, row['Image Path'], row['Best Description'])\n",
    "        outputs_1 = model_1(**inputs_1)\n",
    "        score_1 = outputs_1.logits_per_image.item()\n",
    "\n",
    "        # Proses data untuk model 2\n",
    "        inputs_2 = process_inputs(processor_2, row['Image Path'], row['Best Description'])\n",
    "        outputs_2 = model_2(**inputs_2)\n",
    "        score_2 = outputs_2.logits_per_image.item()\n",
    "\n",
    "        # Save results\n",
    "        results.append({\n",
    "            \"Image Path\": row['Image Path'],\n",
    "            \"Best Description\": row['Best Description'],\n",
    "            \"score_model_1\": score_1,\n",
    "            \"score_model_2\": score_2\n",
    "        })\n",
    "\n",
    "    except Exception as e:\n",
    "        print(f\"Error processing {row['Image Path']}: {e}\")\n"
   ]
  },
  {
   "cell_type": "code",
   "execution_count": null,
   "metadata": {},
   "outputs": [
    {
     "name": "stdout",
     "output_type": "stream",
     "text": [
      "                                          Image Path  \\\n",
      "0  /content/drive/MyDrive/DATA PENGPOL/data/train...   \n",
      "1  /content/drive/MyDrive/DATA PENGPOL/data/train...   \n",
      "2  /content/drive/MyDrive/DATA PENGPOL/data/train...   \n",
      "3  /content/drive/MyDrive/DATA PENGPOL/data/train...   \n",
      "4  /content/drive/MyDrive/DATA PENGPOL/data/train...   \n",
      "\n",
      "                                    Best Description  score_model_1  \\\n",
      "0  A motorcycle accident involving multiple vehicles      31.020559   \n",
      "1  A motorcycle accident involving multiple vehicles      30.557634   \n",
      "2                           A car accident on a road      31.016859   \n",
      "3         The car crashed into a pedestrian crossing      29.133537   \n",
      "4                           A car accident on a road      28.771816   \n",
      "\n",
      "   score_model_2  \n",
      "0      21.107773  \n",
      "1      21.148611  \n",
      "2      21.187666  \n",
      "3      24.147114  \n",
      "4      24.681755  \n"
     ]
    }
   ],
   "source": [
    "results_df = pd.DataFrame(results)\n",
    "results_df.to_csv(\"comparison_results.csv\", index=False)\n",
    "print(results_df.head())"
   ]
  },
  {
   "cell_type": "code",
   "execution_count": null,
   "metadata": {},
   "outputs": [
    {
     "name": "stdout",
     "output_type": "stream",
     "text": [
      "                                          Image Path  score_difference\n",
      "0  /content/drive/MyDrive/DATA PENGPOL/data/train...         -9.912786\n",
      "1  /content/drive/MyDrive/DATA PENGPOL/data/train...         -9.409023\n",
      "2  /content/drive/MyDrive/DATA PENGPOL/data/train...         -9.829193\n",
      "3  /content/drive/MyDrive/DATA PENGPOL/data/train...         -4.986423\n",
      "4  /content/drive/MyDrive/DATA PENGPOL/data/train...         -4.090061\n"
     ]
    }
   ],
   "source": [
    "results_df['score_difference'] = results_df['score_model_2'] - results_df['score_model_1']\n",
    "print(results_df[['Image Path', 'score_difference']].head())"
   ]
  },
  {
   "cell_type": "code",
   "execution_count": null,
   "metadata": {},
   "outputs": [
    {
     "name": "stdout",
     "output_type": "stream",
     "text": [
      "Average Score Model 1: 29.581415007455007\n",
      "Average Score Model 2: 23.793130997249058\n"
     ]
    }
   ],
   "source": [
    "avg_score_model_1 = results_df['score_model_1'].mean()\n",
    "avg_score_model_2 = results_df['score_model_2'].mean()\n",
    "print(f\"Average Score Model 1: {avg_score_model_1}\")\n",
    "print(f\"Average Score Model 2: {avg_score_model_2}\")"
   ]
  },
  {
   "cell_type": "code",
   "execution_count": null,
   "metadata": {},
   "outputs": [
    {
     "name": "stdout",
     "output_type": "stream",
     "text": [
      "Model 1 Time: 102.64962816238403\n",
      "Model 2 Time: 1194.5440151691437\n"
     ]
    }
   ],
   "source": [
    "import time\n",
    "\n",
    "start_time = time.time()\n",
    "for idx, row in data.iterrows():\n",
    "    inputs_1 = process_inputs(processor_1, row['Image Path'], row['Best Description'])\n",
    "    outputs_1 = model_1(**inputs_1)\n",
    "print(f\"Model 1 Time: {time.time() - start_time}\")\n",
    "\n",
    "start_time = time.time()\n",
    "for idx, row in data.iterrows():\n",
    "    inputs_2 = process_inputs(processor_2, row['Image Path'], row['Best Description'])\n",
    "    outputs_2 = model_2(**inputs_2)\n",
    "print(f\"Model 2 Time: {time.time() - start_time}\")"
   ]
  }
 ],
 "metadata": {
  "language_info": {
   "name": "python"
  }
 },
 "nbformat": 4,
 "nbformat_minor": 2
}
